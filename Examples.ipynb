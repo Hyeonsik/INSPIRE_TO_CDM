{
 "cells": [
  {
   "cell_type": "markdown",
   "id": "10d7b579-2c5d-4b74-bbf1-c17670a963d4",
   "metadata": {},
   "source": [
    "* This shows how the records in source tables are mapped to OMOP-CDM tables. An example of patient was randomly sampled from the source table."
   ]
  },
  {
   "cell_type": "code",
   "execution_count": null,
   "id": "d3c7a562-1707-4510-b720-8a7865d50e7c",
   "metadata": {},
   "outputs": [],
   "source": [
    "impoikrt"
   ]
  }
 ],
 "metadata": {
  "kernelspec": {
   "display_name": "hskim",
   "language": "python",
   "name": "hskim"
  },
  "language_info": {
   "codemirror_mode": {
    "name": "ipython",
    "version": 3
   },
   "file_extension": ".py",
   "mimetype": "text/x-python",
   "name": "python",
   "nbconvert_exporter": "python",
   "pygments_lexer": "ipython3",
   "version": "3.8.18"
  }
 },
 "nbformat": 4,
 "nbformat_minor": 5
}
