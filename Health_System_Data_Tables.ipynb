{
 "cells": [
  {
   "cell_type": "code",
   "execution_count": null,
   "id": "2b452eea-afd7-4848-b708-4f4ff8e6bb62",
   "metadata": {},
   "outputs": [],
   "source": []
  },
  {
   "cell_type": "markdown",
   "id": "feabfc21-935d-48ae-b138-d25349586fb5",
   "metadata": {},
   "source": [
    "# LOCATION"
   ]
  },
  {
   "cell_type": "code",
   "execution_count": null,
   "id": "d44024f4-e0f2-4073-889b-8de58a16c928",
   "metadata": {},
   "outputs": [],
   "source": []
  },
  {
   "cell_type": "markdown",
   "id": "b811b284-36ee-44b7-b784-2c898bd4d847",
   "metadata": {},
   "source": [
    "# CARE_SITE"
   ]
  },
  {
   "cell_type": "code",
   "execution_count": null,
   "id": "fc2ce89d-f937-4f6a-a3ea-c06f3d045f23",
   "metadata": {},
   "outputs": [],
   "source": [
    "columns = ['PROVIDER_ID', 'PROVIDER_NAME', 'NPI', 'DEA', "
   ]
  },
  {
   "cell_type": "code",
   "execution_count": null,
   "id": "08193590-578e-4e11-9ed4-09d65d2062eb",
   "metadata": {},
   "outputs": [],
   "source": []
  },
  {
   "cell_type": "markdown",
   "id": "c9eeff51-dfa8-4a87-8050-6c8c67352758",
   "metadata": {},
   "source": [
    "# PROVIDER"
   ]
  },
  {
   "cell_type": "code",
   "execution_count": null,
   "id": "8fa90772-d066-41ed-beb0-6ef1ec618721",
   "metadata": {},
   "outputs": [],
   "source": []
  }
 ],
 "metadata": {
  "kernelspec": {
   "display_name": "hskim",
   "language": "python",
   "name": "hskim"
  },
  "language_info": {
   "codemirror_mode": {
    "name": "ipython",
    "version": 3
   },
   "file_extension": ".py",
   "mimetype": "text/x-python",
   "name": "python",
   "nbconvert_exporter": "python",
   "pygments_lexer": "ipython3",
   "version": "3.8.18"
  }
 },
 "nbformat": 4,
 "nbformat_minor": 5
}
